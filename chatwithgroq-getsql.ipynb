{
 "cells": [
  {
   "cell_type": "code",
   "execution_count": null,
   "id": "ffd96942-93a7-4abf-9db8-9bb66c944d7a",
   "metadata": {},
   "outputs": [],
   "source": [
    "%%capture --no-stderr\n",
    "%pip install -U langgraph langsmith langchain-groq mysql-connector-python python-dotenv"
   ]
  },
  {
   "cell_type": "code",
   "execution_count": null,
   "id": "d186711e-0f69-4a04-b032-162e63c08076",
   "metadata": {},
   "outputs": [],
   "source": [
    "import os\n",
    "import pprint\n",
    "from dotenv import load_dotenv\n",
    "\n",
    "# Verify the current working directory\n",
    "print(\"Current working directory:\", os.getcwd())\n",
    "load_dotenv()\n",
    "\n",
    "MYSQL_HOST = os.getenv(\"MYSQL_HOST\", \"localhost\")\n",
    "MYSQL_USER = os.getenv(\"MYSQL_USER\", \"root\")\n",
    "MYSQL_PASSWORD = os.getenv(\"MYSQL_PASSWORD\", \"\")\n",
    "MYSQL_DB = os.getenv(\"MYSQL_DB\", \"test_db\")\n",
    "MYSQL_PORT = os.getenv(\"cat MYSQL_PORT\", \"3306\")\n",
    "GROQ_API_KEY = os.getenv(\"GROQ_API_KEY\")\n",
    "print(os.getcwd())\n",
    "print(os.environ)\n",
    "print(GROQ_API_KEY)"
   ]
  },
  {
   "cell_type": "markdown",
   "id": "35ab095b-389d-4c60-a0b1-40f9d27a0212",
   "metadata": {},
   "source": [
    "Part 1: Build a Basic Chatbot¶\n",
    "\n",
    "We'll first create a simple chatbot using LangGraph. This chatbot will respond directly to user messages. Though simple, it will illustrate the core concepts of building with LangGraph. By the end of this section, you will have a built rudimentary chatbot.\n",
    "\n",
    "Start by creating a StateGraph. A StateGraph object defines the structure of our chatbot as a \"state machine\". We'll add nodes to represent the llm and functions our chatbot can call and edges to specify how the bot should transition between these functions."
   ]
  },
  {
   "cell_type": "code",
   "execution_count": null,
   "id": "813e35f3-5cb4-4f66-bb76-2381ee9fd856",
   "metadata": {},
   "outputs": [],
   "source": [
    "from typing import Annotated\n",
    "\n",
    "from typing_extensions import TypedDict\n",
    "\n",
    "from langgraph.graph import StateGraph, START, END\n",
    "from langgraph.graph.message import add_messages\n",
    "\n",
    "\n",
    "class State(TypedDict):\n",
    "    # Messages have the type \"list\". The `add_messages` function\n",
    "    # in the annotation defines how this state key should be updated\n",
    "    # (in this case, it appends messages to the list, rather than overwriting them)\n",
    "    messages: Annotated[list, add_messages]\n",
    "\n",
    "\n",
    "graph_builder = StateGraph(State)"
   ]
  },
  {
   "cell_type": "markdown",
   "id": "219a24f7-aba7-4588-968f-95b732543128",
   "metadata": {},
   "source": [
    "Next, add a \"chatbot\" node. Nodes represent units of work. They are typically regular python functions"
   ]
  },
  {
   "cell_type": "code",
   "execution_count": null,
   "id": "36c026e7-d281-4562-ab69-2f7f957d31e5",
   "metadata": {},
   "outputs": [],
   "source": [
    "from langchain_core.prompts import ChatPromptTemplate\n",
    "from langchain_groq import ChatGroq\n",
    "llm = ChatGroq(temperature=0, model_name=\"llama-3.1-8b-instant\")\n",
    "\n",
    "\n",
    "def chatbot(state: State):\n",
    "    return {\"messages\": [llm.invoke(state[\"messages\"])]}\n",
    "\n",
    "\n",
    "# The first argument is the unique node name\n",
    "# The second argument is the function or object that will be called whenever\n",
    "# the node is used.\n",
    "graph_builder.add_node(\"posts\", chatbot)"
   ]
  },
  {
   "cell_type": "code",
   "execution_count": null,
   "id": "80155647-d658-483c-abba-f6f612827dde",
   "metadata": {},
   "outputs": [],
   "source": [
    "graph_builder.add_edge(START, \"posts\")\n",
    "graph_builder.add_edge(\"posts\", END)\n",
    "graph = graph_builder.compile()"
   ]
  },
  {
   "cell_type": "markdown",
   "id": "43af252b",
   "metadata": {},
   "source": [
    "Query para generar la setencia sql"
   ]
  },
  {
   "cell_type": "code",
   "execution_count": null,
   "id": "e8d00aac",
   "metadata": {},
   "outputs": [],
   "source": [
    "def generate_sql_query(question, schema):\n",
    "    print(schema)\n",
    "\n",
    "    prompt = f\"\"\"\n",
    "    Below is the schema for a MySQL database. Generate an SQL query based on the user's question:\n",
    "\n",
    "    Database schema:\n",
    "    {schema}\n",
    "\n",
    "    User's question: {question}\n",
    "\n",
    "    Please return only the SQL query, nothing else. I only require the SQL.\n",
    "    \"\"\"\n",
    "\n",
    "    response = llm.invoke(prompt)\n",
    "    # Token usage\n",
    "    pprint.pp(f\"Token usage: {response.usage_metadata}\")\n",
    "\n",
    "    response = response.content.replace(\"```sql\", \"\").replace(\"```\", \"\")\n",
    "\n",
    "    return response"
   ]
  },
  {
   "cell_type": "markdown",
   "id": "89f9b80a",
   "metadata": {},
   "source": [
    "Connection to the DB"
   ]
  },
  {
   "cell_type": "code",
   "execution_count": null,
   "id": "4398dccb",
   "metadata": {},
   "outputs": [],
   "source": [
    "import mysql.connector\n",
    "def connect_to_database():\n",
    "    conn = mysql.connector.connect(\n",
    "        host=MYSQL_HOST,\n",
    "        user=MYSQL_USER,\n",
    "        password=MYSQL_PASSWORD,\n",
    "        database=MYSQL_DB,\n",
    "        port=MYSQL_PORT\n",
    "    )\n",
    "    return conn"
   ]
  },
  {
   "cell_type": "markdown",
   "id": "cea9b4c8",
   "metadata": {},
   "source": [
    "Get the schemas of the tables"
   ]
  },
  {
   "cell_type": "code",
   "execution_count": null,
   "id": "edbfbcc3",
   "metadata": {},
   "outputs": [],
   "source": [
    "def get_database_schema():\n",
    "    tables = os.getenv(\"TABLES\", \"posts\")\n",
    "    table_list = [table.strip() for table in tables.split(\",\")]\n",
    "    conn = connect_to_database()\n",
    "    cursor = conn.cursor()\n",
    "    schema = {}\n",
    "    for table in table_list:\n",
    "        cursor.execute(f\"DESCRIBE {table}\")\n",
    "        result = cursor.fetchall()\n",
    "        schema[table] = result\n",
    "    cursor.close()\n",
    "    conn.close()\n",
    "    return str(schema)"
   ]
  },
  {
   "cell_type": "markdown",
   "id": "c56eca77",
   "metadata": {},
   "source": [
    "Make the request to the DB"
   ]
  },
  {
   "cell_type": "code",
   "execution_count": null,
   "id": "a16e7720",
   "metadata": {},
   "outputs": [],
   "source": [
    "def run_sql_query(query):\n",
    "    conn = connect_to_database()\n",
    "    cursor = conn.cursor()\n",
    "    cursor.execute(query)\n",
    "    result = cursor.fetchall()\n",
    "    cursor.close()\n",
    "    conn.close()\n",
    "    return result"
   ]
  },
  {
   "cell_type": "markdown",
   "id": "406b67ef",
   "metadata": {},
   "source": [
    "Interact with the LLM"
   ]
  },
  {
   "cell_type": "code",
   "execution_count": null,
   "id": "628f9677",
   "metadata": {},
   "outputs": [],
   "source": [
    "\n",
    "\n",
    "def generate_natural_language_response(question, query, result):\n",
    "    llmguard = ChatGroq(temperature=0, model_name=\"llama-3.1-8b-instant\")\n",
    "    prompt = f\"\"\"\n",
    "        Below is the schema for a MySQL database and the SQL query generated to answer a question:\n",
    "\n",
    "        Database schema:\n",
    "        {get_database_schema()}\n",
    "\n",
    "        User's question: {question}\n",
    "        SQL query: {query}\n",
    "        Result: {result}\n",
    "\n",
    "        Write a response in natural language for the user based on the query and the result. It is important to include the post URL and social network if post information is requested.\n",
    "        \"\"\"\n",
    "\n",
    "    response = llmguard.invoke(prompt)\n",
    "\n",
    "    # Token usage\n",
    "    pprint.pp(f\"Token usage: {response.usage_metadata}\")\n",
    "\n",
    "    return response.content\n"
   ]
  },
  {
   "cell_type": "code",
   "execution_count": null,
   "id": "b6a32ef7-398a-4ff2-902f-86b18396f882",
   "metadata": {},
   "outputs": [],
   "source": [
    "\n",
    "# Main function to interact with the agent\n",
    "def interact_with_agent():\n",
    "    print('enters 1')\n",
    "    question = input(\"Ask a question about the database: \")\n",
    "    print(question)\n",
    "    if question.lower() == \"exit\":\n",
    "        print(\"Exiting...\")\n",
    "        return\n",
    "    print('enters 2')\n",
    "    schema = get_database_schema()\n",
    "    print('enters 3')\n",
    "    query = generate_sql_query(question, schema)\n",
    "    print(f\"Generated query: {query}\")\n",
    "\n",
    "    result = run_sql_query(query)\n",
    "    print(f\"Query result: {result}\")\n",
    "\n",
    "    response = generate_natural_language_response(question, query, result)\n",
    "    print(f\"Natural language response: {response}\")\n",
    "\n",
    "    interact_with_agent()\n",
    "\n",
    "if __name__ == \"__main__\":\n",
    "    print(\"Hello! I'm your SQL query agent.\")\n",
    "    interact_with_agent()"
   ]
  }
 ],
 "metadata": {
  "kernelspec": {
   "display_name": ".venv",
   "language": "python",
   "name": "python3"
  },
  "language_info": {
   "codemirror_mode": {
    "name": "ipython",
    "version": 3
   },
   "file_extension": ".py",
   "mimetype": "text/x-python",
   "name": "python",
   "nbconvert_exporter": "python",
   "pygments_lexer": "ipython3",
   "version": "3.12.5"
  }
 },
 "nbformat": 4,
 "nbformat_minor": 5
}
